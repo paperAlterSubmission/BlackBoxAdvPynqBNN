{
 "cells": [
  {
   "cell_type": "markdown",
   "metadata": {},
   "source": [
    "# Conducting a Simple Black-box Adversarial Attack on BNN\n",
    "\n",
    "Adversarial examples are inputs to machine learning models that an attacker has intentionally designed to cause the model to make a mistake; they’re like optical illusions for machines. \n",
    "\n",
    "Deep neural networks have been widely used recently. Due to the complexity of current networks, the principles of deep networks remain to be black-box. "
   ]
  },
  {
   "cell_type": "markdown",
   "metadata": {},
   "source": [
    "## 1. Import BNN\n",
    "Import BNN package and check its parameters.\n",
    "By default the printed trained parameters are available for CNV network using 1 bit for weights and activation model.\n",
    "\n",
    "PS: I am using usb cable to connect my Ultra board to computer, if you prefer to use wifi mode you need to follow the steps in /common/wifi.ipynb to connect to your wifi first."
   ]
  },
  {
   "cell_type": "code",
   "execution_count": 68,
   "metadata": {},
   "outputs": [
    {
     "name": "stdout",
     "output_type": "stream",
     "text": [
      "['streetview', 'road-signs', 'cifar10']\n"
     ]
    }
   ],
   "source": [
    "import bnn\n",
    "\n",
    "print(bnn.available_params(bnn.NETWORK_CNVW1A1))"
   ]
  },
  {
   "cell_type": "markdown",
   "metadata": {},
   "source": [
    "## 2. Instantiate a Classifier\n",
    "\n",
    "Creating a classifier will automatically download the correct bitstream onto device and load the weights trained on the specified dataset. Passing a runtime attribute will allow to choose between hardware accelerated or pure software inference.\n",
    "\n",
    "Use `CnvClassifier(network,parameters,runtime)` for CNV network topology:"
   ]
  },
  {
   "cell_type": "code",
   "execution_count": 69,
   "metadata": {},
   "outputs": [],
   "source": [
    "hw_classifier = bnn.CnvClassifier(bnn.NETWORK_CNVW1A1,'cifar10',bnn.RUNTIME_HW)\n",
    "sw_classifier = bnn.CnvClassifier(bnn.NETWORK_CNVW1A1,'cifar10',bnn.RUNTIME_SW)"
   ]
  },
  {
   "cell_type": "markdown",
   "metadata": {},
   "source": [
    "## 3. List the classes\n",
    "\n",
    "The CIFAR10 dataset includes 10 classes of images, the names of which are accessible through the classifier."
   ]
  },
  {
   "cell_type": "code",
   "execution_count": 70,
   "metadata": {},
   "outputs": [
    {
     "name": "stdout",
     "output_type": "stream",
     "text": [
      "['Airplane', 'Automobile', 'Bird', 'Cat', 'Deer', 'Dog', 'Frog', 'Horse', 'Ship', 'Truck']\n"
     ]
    }
   ],
   "source": [
    "print(hw_classifier.classes)"
   ]
  },
  {
   "cell_type": "markdown",
   "metadata": {},
   "source": [
    "## 4. Choose an image and do a standard BNN classification\n",
    "\n",
    "Load the 'bird' image and get through classification procedure using the BNN classifier."
   ]
  },
  {
   "cell_type": "code",
   "execution_count": 71,
   "metadata": {},
   "outputs": [
    {
     "data": {
      "image/png": "[encoded data removed]",
      "text/plain": [
       "<PIL.JpegImagePlugin.JpegImageFile image mode=RGB size=128x86 at 0x7F70704E48>"
      ]
     },
     "metadata": {},
     "output_type": "display_data"
    },
    {
     "name": "stdout",
     "output_type": "stream",
     "text": [
      "Inference took 527.00 microseconds\n",
      "Classification rate: 1897.53 images per second\n",
      "Class number: 2\n",
      "Class name: Bird\n"
     ]
    }
   ],
   "source": [
    "from PIL import Image\n",
    "import numpy as np\n",
    "\n",
    "from IPython.display import display\n",
    "\n",
    "im = Image.open('/home/xilinx/jupyter_notebooks/bnn/pictures/bird.jpg')\n",
    "im.thumbnail((128, 128), Image.ANTIALIAS)\n",
    "display(im)\n",
    "\n",
    "class_out=hw_classifier.classify_image(im)\n",
    "print(\"Class number: {0}\".format(class_out))\n",
    "print(\"Class name: {0}\".format(hw_classifier.class_name(class_out)))\n"
   ]
  },
  {
   "cell_type": "markdown",
   "metadata": {},
   "source": [
    "The detailed classification mode also gives out the classification confidence of each class.\n",
    "The ranking returned here is numpy.ndarray of size (10,)"
   ]
  },
  {
   "cell_type": "code",
   "execution_count": 72,
   "metadata": {},
   "outputs": [
    {
     "name": "stdout",
     "output_type": "stream",
     "text": [
      "Inference took 527.00 microseconds\n",
      "Classification rate: 1897.53 images per second\n",
      "   [CLASS]    [RANKING]\n",
      "  Airplane       254\n",
      "Automobile       155\n",
      "      Bird       415\n",
      "       Cat       279\n",
      "      Deer       281\n",
      "       Dog       264\n",
      "      Frog       265\n",
      "     Horse       250\n",
      "      Ship       261\n",
      "     Truck       136\n"
     ]
    }
   ],
   "source": [
    "belief_class = hw_classifier.classify_image_details(im)\n",
    "print(\"{: >10}{: >13}\".format(\"[CLASS]\",\"[RANKING]\"))\n",
    "for i in range(len(belief_class)):\n",
    "    print(\"{: >10}{: >10}\".format(hw_classifier.classes[i],belief_class[i]))"
   ]
  },
  {
   "cell_type": "markdown",
   "metadata": {},
   "source": [
    "## 5. Get pixels sensitive to prediction confidence\n",
    "\n",
    "There are three hyperparameters here in the attack settings:\n",
    "1. Step.   The sampling stride for choosing pixels, for examples, step=2 means choose pixels every x=x+2 or y=y+2;\n",
    "2. Thres.  A threshold value for choosing sensitive pixels among sampled pixels;\n",
    "3. Lamda.  The magnitude of perturbation added to the original image.\n",
    "\n",
    "The code below shows the process of modify one pixel at a time and get classification confidence values. Here just use the classifier once per image, but later in the combined version, the inference on multiuple classification function would be used, that would be much faster."
   ]
  },
  {
   "cell_type": "code",
   "execution_count": 73,
   "metadata": {},
   "outputs": [
    {
     "name": "stdout",
     "output_type": "stream",
     "text": [
      "Inference took 528.00 microseconds\n",
      "Classification rate: 1893.94 images per second\n",
      "Inference took 527.00 microseconds\n",
      "Classification rate: 1897.53 images per second\n",
      "Inference took 527.00 microseconds\n",
      "Classification rate: 1897.53 images per second\n",
      "Inference took 527.00 microseconds\n",
      "Classification rate: 1897.53 images per second\n",
      "Inference took 527.00 microseconds\n",
      "Classification rate: 1897.53 images per second\n",
      "Inference took 528.00 microseconds\n",
      "Classification rate: 1893.94 images per second\n",
      "Inference took 528.00 microseconds\n",
      "Classification rate: 1893.94 images per second\n",
      "Inference took 528.00 microseconds\n",
      "Classification rate: 1893.94 images per second\n",
      "Inference took 527.00 microseconds\n",
      "Classification rate: 1897.53 images per second\n",
      "Inference took 528.00 microseconds\n",
      "Classification rate: 1893.94 images per second\n",
      "Inference took 528.00 microseconds\n",
      "Classification rate: 1893.94 images per second\n",
      "Inference took 528.00 microseconds\n",
      "Classification rate: 1893.94 images per second\n",
      "Inference took 528.00 microseconds\n",
      "Classification rate: 1893.94 images per second\n",
      "Inference took 528.00 microseconds\n",
      "Classification rate: 1893.94 images per second\n",
      "Inference took 527.00 microseconds\n",
      "Classification rate: 1897.53 images per second\n",
      "Inference took 528.00 microseconds\n",
      "Classification rate: 1893.94 images per second\n",
      "Inference took 528.00 microseconds\n",
      "Classification rate: 1893.94 images per second\n",
      "Inference took 527.00 microseconds\n",
      "Classification rate: 1897.53 images per second\n",
      "Inference took 528.00 microseconds\n",
      "Classification rate: 1893.94 images per second\n",
      "Inference took 527.00 microseconds\n",
      "Classification rate: 1897.53 images per second\n",
      "Inference took 528.00 microseconds\n",
      "Classification rate: 1893.94 images per second\n",
      "Inference took 528.00 microseconds\n",
      "Classification rate: 1893.94 images per second\n",
      "Inference took 528.00 microseconds\n",
      "Classification rate: 1893.94 images per second\n",
      "Inference took 528.00 microseconds\n",
      "Classification rate: 1893.94 images per second\n",
      "Inference took 527.00 microseconds\n",
      "Classification rate: 1897.53 images per second\n",
      "Inference took 527.00 microseconds\n",
      "Classification rate: 1897.53 images per second\n",
      "Inference took 528.00 microseconds\n",
      "Classification rate: 1893.94 images per second\n",
      "Inference took 528.00 microseconds\n",
      "Classification rate: 1893.94 images per second\n",
      "Inference took 527.00 microseconds\n",
      "Classification rate: 1897.53 images per second\n",
      "Inference took 528.00 microseconds\n",
      "Classification rate: 1893.94 images per second\n",
      "Inference took 528.00 microseconds\n",
      "Classification rate: 1893.94 images per second\n",
      "Inference took 527.00 microseconds\n",
      "Classification rate: 1897.53 images per second\n",
      "Inference took 528.00 microseconds\n",
      "Classification rate: 1893.94 images per second\n",
      "Inference took 527.00 microseconds\n",
      "Classification rate: 1897.53 images per second\n",
      "Inference took 527.00 microseconds\n",
      "Classification rate: 1897.53 images per second\n",
      "Inference took 527.00 microseconds\n",
      "Classification rate: 1897.53 images per second\n",
      "Inference took 528.00 microseconds\n",
      "Classification rate: 1893.94 images per second\n",
      "Inference took 527.00 microseconds\n",
      "Classification rate: 1897.53 images per second\n",
      "Inference took 527.00 microseconds\n",
      "Classification rate: 1897.53 images per second\n",
      "Inference took 528.00 microseconds\n",
      "Classification rate: 1893.94 images per second\n",
      "Inference took 528.00 microseconds\n",
      "Classification rate: 1893.94 images per second\n",
      "Inference took 528.00 microseconds\n",
      "Classification rate: 1893.94 images per second\n",
      "Inference took 527.00 microseconds\n",
      "Classification rate: 1897.53 images per second\n",
      "Inference took 528.00 microseconds\n",
      "Classification rate: 1893.94 images per second\n",
      "Inference took 528.00 microseconds\n",
      "Classification rate: 1893.94 images per second\n",
      "Inference took 528.00 microseconds\n",
      "Classification rate: 1893.94 images per second\n",
      "Inference took 528.00 microseconds\n",
      "Classification rate: 1893.94 images per second\n",
      "Inference took 528.00 microseconds\n",
      "Classification rate: 1893.94 images per second\n",
      "Inference took 527.00 microseconds\n",
      "Classification rate: 1897.53 images per second\n",
      "Inference took 528.00 microseconds\n",
      "Classification rate: 1893.94 images per second\n",
      "Inference took 528.00 microseconds\n",
      "Classification rate: 1893.94 images per second\n",
      "Inference took 528.00 microseconds\n",
      "Classification rate: 1893.94 images per second\n",
      "Inference took 527.00 microseconds\n",
      "Classification rate: 1897.53 images per second\n",
      "Inference took 528.00 microseconds\n",
      "Classification rate: 1893.94 images per second\n",
      "Inference took 528.00 microseconds\n",
      "Classification rate: 1893.94 images per second\n",
      "Inference took 528.00 microseconds\n",
      "Classification rate: 1893.94 images per second\n",
      "Inference took 528.00 microseconds\n",
      "Classification rate: 1893.94 images per second\n",
      "Inference took 527.00 microseconds\n",
      "Classification rate: 1897.53 images per second\n",
      "Inference took 527.00 microseconds\n",
      "Classification rate: 1897.53 images per second\n",
      "Inference took 545.00 microseconds\n",
      "Classification rate: 1834.86 images per second\n",
      "Inference took 528.00 microseconds\n",
      "Classification rate: 1893.94 images per second\n",
      "Inference took 527.00 microseconds\n",
      "Classification rate: 1897.53 images per second\n",
      "Inference took 528.00 microseconds\n",
      "Classification rate: 1893.94 images per second\n",
      "Inference took 528.00 microseconds\n",
      "Classification rate: 1893.94 images per second\n",
      "Inference took 528.00 microseconds\n",
      "Classification rate: 1893.94 images per second\n",
      "Inference took 528.00 microseconds\n",
      "Classification rate: 1893.94 images per second\n",
      "Inference took 528.00 microseconds\n",
      "Classification rate: 1893.94 images per second\n",
      "Inference took 528.00 microseconds\n",
      "Classification rate: 1893.94 images per second\n",
      "Inference took 527.00 microseconds\n",
      "Classification rate: 1897.53 images per second\n",
      "Inference took 528.00 microseconds\n",
      "Classification rate: 1893.94 images per second\n",
      "Inference took 528.00 microseconds\n",
      "Classification rate: 1893.94 images per second\n",
      "Inference took 527.00 microseconds\n",
      "Classification rate: 1897.53 images per second\n",
      "Inference took 528.00 microseconds\n",
      "Classification rate: 1893.94 images per second\n",
      "Inference took 528.00 microseconds\n",
      "Classification rate: 1893.94 images per second\n",
      "Inference took 527.00 microseconds\n",
      "Classification rate: 1897.53 images per second\n",
      "Inference took 527.00 microseconds\n",
      "Classification rate: 1897.53 images per second\n",
      "Inference took 528.00 microseconds\n",
      "Classification rate: 1893.94 images per second\n",
      "Inference took 527.00 microseconds\n",
      "Classification rate: 1897.53 images per second\n",
      "Inference took 528.00 microseconds\n",
      "Classification rate: 1893.94 images per second\n",
      "Inference took 528.00 microseconds\n",
      "Classification rate: 1893.94 images per second\n",
      "Inference took 528.00 microseconds\n",
      "Classification rate: 1893.94 images per second\n",
      "Inference took 528.00 microseconds\n",
      "Classification rate: 1893.94 images per second\n",
      "Inference took 528.00 microseconds\n",
      "Classification rate: 1893.94 images per second\n",
      "Inference took 527.00 microseconds\n",
      "Classification rate: 1897.53 images per second\n",
      "Inference took 528.00 microseconds\n",
      "Classification rate: 1893.94 images per second\n",
      "Inference took 527.00 microseconds\n",
      "Classification rate: 1897.53 images per second\n",
      "Inference took 528.00 microseconds\n",
      "Classification rate: 1893.94 images per second\n",
      "Inference took 527.00 microseconds\n",
      "Classification rate: 1897.53 images per second\n",
      "Inference took 527.00 microseconds\n",
      "Classification rate: 1897.53 images per second\n",
      "Inference took 528.00 microseconds\n",
      "Classification rate: 1893.94 images per second\n",
      "Inference took 527.00 microseconds\n",
      "Classification rate: 1897.53 images per second\n",
      "Inference took 527.00 microseconds\n",
      "Classification rate: 1897.53 images per second\n",
      "Inference took 528.00 microseconds\n",
      "Classification rate: 1893.94 images per second\n",
      "Inference took 527.00 microseconds\n",
      "Classification rate: 1897.53 images per second\n",
      "Inference took 528.00 microseconds\n",
      "Classification rate: 1893.94 images per second\n",
      "Inference took 527.00 microseconds\n",
      "Classification rate: 1897.53 images per second\n",
      "Inference took 527.00 microseconds\n",
      "Classification rate: 1897.53 images per second\n",
      "Inference took 527.00 microseconds\n",
      "Classification rate: 1897.53 images per second\n",
      "Inference took 528.00 microseconds\n",
      "Classification rate: 1893.94 images per second\n",
      "Inference took 528.00 microseconds\n",
      "Classification rate: 1893.94 images per second\n",
      "Inference took 527.00 microseconds\n",
      "Classification rate: 1897.53 images per second\n",
      "Inference took 528.00 microseconds\n",
      "Classification rate: 1893.94 images per second\n",
      "Inference took 527.00 microseconds\n",
      "Classification rate: 1897.53 images per second\n",
      "Inference took 527.00 microseconds\n",
      "Classification rate: 1897.53 images per second\n",
      "Inference took 528.00 microseconds\n",
      "Classification rate: 1893.94 images per second\n"
     ]
    },
    {
     "name": "stdout",
     "output_type": "stream",
     "text": [
      "Inference took 527.00 microseconds\n",
      "Classification rate: 1897.53 images per second\n",
      "Inference took 527.00 microseconds\n",
      "Classification rate: 1897.53 images per second\n",
      "Inference took 528.00 microseconds\n",
      "Classification rate: 1893.94 images per second\n",
      "Inference took 528.00 microseconds\n",
      "Classification rate: 1893.94 images per second\n",
      "Inference took 528.00 microseconds\n",
      "Classification rate: 1893.94 images per second\n",
      "Inference took 527.00 microseconds\n",
      "Classification rate: 1897.53 images per second\n",
      "Inference took 528.00 microseconds\n",
      "Classification rate: 1893.94 images per second\n",
      "Inference took 528.00 microseconds\n",
      "Classification rate: 1893.94 images per second\n",
      "Inference took 528.00 microseconds\n",
      "Classification rate: 1893.94 images per second\n",
      "Inference took 528.00 microseconds\n",
      "Classification rate: 1893.94 images per second\n",
      "Inference took 528.00 microseconds\n",
      "Classification rate: 1893.94 images per second\n",
      "Inference took 527.00 microseconds\n",
      "Classification rate: 1897.53 images per second\n",
      "Inference took 527.00 microseconds\n",
      "Classification rate: 1897.53 images per second\n",
      "Inference took 528.00 microseconds\n",
      "Classification rate: 1893.94 images per second\n",
      "Inference took 528.00 microseconds\n",
      "Classification rate: 1893.94 images per second\n",
      "Inference took 528.00 microseconds\n",
      "Classification rate: 1893.94 images per second\n",
      "Inference took 527.00 microseconds\n",
      "Classification rate: 1897.53 images per second\n",
      "Inference took 528.00 microseconds\n",
      "Classification rate: 1893.94 images per second\n",
      "Inference took 564.00 microseconds\n",
      "Classification rate: 1773.05 images per second\n",
      "Inference took 528.00 microseconds\n",
      "Classification rate: 1893.94 images per second\n",
      "Inference took 527.00 microseconds\n",
      "Classification rate: 1897.53 images per second\n",
      "Inference took 528.00 microseconds\n",
      "Classification rate: 1893.94 images per second\n",
      "Inference took 528.00 microseconds\n",
      "Classification rate: 1893.94 images per second\n",
      "Inference took 528.00 microseconds\n",
      "Classification rate: 1893.94 images per second\n",
      "Inference took 528.00 microseconds\n",
      "Classification rate: 1893.94 images per second\n",
      "Inference took 527.00 microseconds\n",
      "Classification rate: 1897.53 images per second\n",
      "Inference took 528.00 microseconds\n",
      "Classification rate: 1893.94 images per second\n",
      "Inference took 528.00 microseconds\n",
      "Classification rate: 1893.94 images per second\n",
      "Inference took 528.00 microseconds\n",
      "Classification rate: 1893.94 images per second\n",
      "Inference took 527.00 microseconds\n",
      "Classification rate: 1897.53 images per second\n",
      "Inference took 528.00 microseconds\n",
      "Classification rate: 1893.94 images per second\n",
      "Inference took 527.00 microseconds\n",
      "Classification rate: 1897.53 images per second\n",
      "Inference took 527.00 microseconds\n",
      "Classification rate: 1897.53 images per second\n",
      "Inference took 528.00 microseconds\n",
      "Classification rate: 1893.94 images per second\n",
      "Inference took 528.00 microseconds\n",
      "Classification rate: 1893.94 images per second\n",
      "Inference took 528.00 microseconds\n",
      "Classification rate: 1893.94 images per second\n",
      "Inference took 527.00 microseconds\n",
      "Classification rate: 1897.53 images per second\n",
      "Inference took 528.00 microseconds\n",
      "Classification rate: 1893.94 images per second\n",
      "Inference took 527.00 microseconds\n",
      "Classification rate: 1897.53 images per second\n",
      "Inference took 528.00 microseconds\n",
      "Classification rate: 1893.94 images per second\n",
      "Inference took 527.00 microseconds\n",
      "Classification rate: 1897.53 images per second\n",
      "Inference took 527.00 microseconds\n",
      "Classification rate: 1897.53 images per second\n",
      "Inference took 527.00 microseconds\n",
      "Classification rate: 1897.53 images per second\n",
      "Inference took 528.00 microseconds\n",
      "Classification rate: 1893.94 images per second\n",
      "Inference took 528.00 microseconds\n",
      "Classification rate: 1893.94 images per second\n",
      "Inference took 528.00 microseconds\n",
      "Classification rate: 1893.94 images per second\n",
      "Inference took 527.00 microseconds\n",
      "Classification rate: 1897.53 images per second\n",
      "Inference took 528.00 microseconds\n",
      "Classification rate: 1893.94 images per second\n",
      "Inference took 527.00 microseconds\n",
      "Classification rate: 1897.53 images per second\n",
      "Inference took 528.00 microseconds\n",
      "Classification rate: 1893.94 images per second\n",
      "Inference took 527.00 microseconds\n",
      "Classification rate: 1897.53 images per second\n",
      "Inference took 528.00 microseconds\n",
      "Classification rate: 1893.94 images per second\n",
      "Inference took 527.00 microseconds\n",
      "Classification rate: 1897.53 images per second\n",
      "Inference took 528.00 microseconds\n",
      "Classification rate: 1893.94 images per second\n",
      "Inference took 528.00 microseconds\n",
      "Classification rate: 1893.94 images per second\n",
      "Inference took 528.00 microseconds\n",
      "Classification rate: 1893.94 images per second\n",
      "Inference took 527.00 microseconds\n",
      "Classification rate: 1897.53 images per second\n",
      "Inference took 560.00 microseconds\n",
      "Classification rate: 1785.71 images per second\n",
      "Inference took 528.00 microseconds\n",
      "Classification rate: 1893.94 images per second\n",
      "Inference took 528.00 microseconds\n",
      "Classification rate: 1893.94 images per second\n",
      "Inference took 528.00 microseconds\n",
      "Classification rate: 1893.94 images per second\n",
      "Inference took 528.00 microseconds\n",
      "Classification rate: 1893.94 images per second\n",
      "Inference took 576.00 microseconds\n",
      "Classification rate: 1736.11 images per second\n",
      "Inference took 528.00 microseconds\n",
      "Classification rate: 1893.94 images per second\n",
      "Inference took 527.00 microseconds\n",
      "Classification rate: 1897.53 images per second\n",
      "Inference took 585.00 microseconds\n",
      "Classification rate: 1709.40 images per second\n",
      "Inference took 527.00 microseconds\n",
      "Classification rate: 1897.53 images per second\n",
      "Inference took 527.00 microseconds\n",
      "Classification rate: 1897.53 images per second\n",
      "Inference took 527.00 microseconds\n",
      "Classification rate: 1897.53 images per second\n",
      "Inference took 528.00 microseconds\n",
      "Classification rate: 1893.94 images per second\n",
      "Inference took 528.00 microseconds\n",
      "Classification rate: 1893.94 images per second\n"
     ]
    }
   ],
   "source": [
    "#print(im.size)\n",
    "row,col= im.size\n",
    "\n",
    "step=2\n",
    "count=0\n",
    "\n",
    "\n",
    "for i in range(0,row,step):\n",
    "    for j in range(0,col,step):\n",
    "        count= count+1\n",
    "#modarr=np.zeros((count,10))\n",
    "\n",
    "clsarr=np.zeros((count,10))\n",
    "\n",
    "count=0\n",
    "for i in range(0,row,step):\n",
    "    for j in range(0,col,step):\n",
    "        imtst= im.copy()\n",
    "        imdat= imtst.load()\n",
    "        imR,imG,imB = imdat[i,j]\n",
    "        imdat[i,j] = (imR+30,imG+60,imB+10) #3,6,1\n",
    "        mod_class = hw_classifier.classify_image_details(imtst)\n",
    "        #display(imtst)\n",
    "        \n",
    "        clsarr[ count, ]= mod_class\n",
    "        count=count+1\n",
    "\n"
   ]
  },
  {
   "cell_type": "markdown",
   "metadata": {},
   "source": [
    "## 6. Get sensitive pixels and get their signs\n",
    "\n",
    "One important point here is that how to define sensitive pixels?\n",
    "\n",
    "A metric is required to do this measurement.\n",
    "As mentioned, the classifier returns an array containing prediction confidence for each class and the class with the highest confidence would be the classification result.\n",
    "Normally, the standard metric used in deep learning is the crossentropy. To further reduce the computation burden, just use the confidence difference between the largest and second largest as the prediction robustness metric. Set a threshold value to filter out very small changes and the rest would be regarded as sensitive pixels need to be modified.\n",
    "\n",
    "Here learning from the classic FGSM(Fast Gradient Sign Method) method, get the sign of these pixel changes."
   ]
  },
  {
   "cell_type": "code",
   "execution_count": 74,
   "metadata": {},
   "outputs": [
    {
     "name": "stdout",
     "output_type": "stream",
     "text": [
      "Sign of sensitive pixels:\n",
      "[-1. -1.  0. -1.  1.  1.  0. -1. -1.  0. -1.  0.  0. -1.  1.  1.  0.  0.\n",
      " -1.  1.  0.  1.  1.  0.  0. -1. -1. -1. -1. -1. -1. -1.  0. -1. -1. -1.\n",
      " -1. -1. -1. -1.  0. -1. -1. -1. -1.  0. -1. -1. -1. -1. -1.  1. -1. -1.\n",
      " -1.  1. -1. -1. -1. -1. -1.  1.  0.  0. -1.  0.  0.  0. -1. -1. -1.  1.\n",
      " -1. -1. -1.  0. -1.  0.  0. -1.  1.  0. -1. -1.  0. -1. -1.  0. -1. -1.\n",
      "  0.  0.  0. -1. -1. -1. -1. -1. -1.  0. -1.  0.  0. -1. -1. -1. -1. -1.\n",
      " -1.  0.  1.  0.  0. -1. -1. -1. -1. -1. -1. -1. -1.  0. -1. -1. -1. -1.\n",
      " -1. -1. -1. -1. -1. -1.  0.  0. -1. -1. -1. -1. -1.  1.  0.  0. -1.  1.\n",
      " -1. -1.  0. -1.  1. -1. -1.  0. -1. -1.  0.  1. -1.  0. -1. -1.  0.  0.\n",
      " -1.  0. -1.  0.  0.  1.  0.  0.  0.  0.  0.  1. -1.  0.]\n"
     ]
    }
   ],
   "source": [
    "## Max- 2ndMax Condifence Decrease\n",
    "thres = 2\n",
    "\n",
    "#print(belief_class)\n",
    "beliefdif= np.max(belief_class)- np.min( belief_class[np.argpartition(belief_class, -2)[-2:]] )\n",
    "#belief_class[class_out]- np.max(belief_class[0:class_out:])\n",
    "#print(beliefdif)\n",
    "        \n",
    "class_out=belief_class.argmax(axis=0)\n",
    "#class_out=int(class_max)\n",
    "    \n",
    "modout= clsarr[:,class_out]\n",
    "#print(type(class_out))\n",
    "#print(modout.shape)\n",
    "ind=range(clsarr.shape[1])\n",
    "ind=np.setdiff1d(ind,class_out)\n",
    "#print(modout)\n",
    "#print(np.max( clsarr[:,ind],axis=1 ))\n",
    "modout= modout- np.max( clsarr[:,ind],axis=1 )-beliefdif\n",
    "\n",
    "#print(modout)\n",
    "    \n",
    "modsign= modout.copy()\n",
    "#thres = 2\n",
    "modsign[np.abs(modsign) <= thres] = 0 \n",
    "modsign= np.sign(modsign)\n",
    "print('Sign of sensitive pixels:')\n",
    "print(modsign)\n"
   ]
  },
  {
   "cell_type": "markdown",
   "metadata": {},
   "source": [
    "## 7. Use computed sign matrix to modify image\n",
    "\n",
    "Use the lamda value and the sign to add to the original image."
   ]
  },
  {
   "cell_type": "code",
   "execution_count": 75,
   "metadata": {},
   "outputs": [],
   "source": [
    "lamda=2\n",
    "\n",
    "count=int(0)\n",
    "imtst= im.copy()\n",
    "imdat= imtst.load()\n",
    "\n",
    "for i in range(0,row,step):\n",
    "    for j in range(0,col,step):      \n",
    "        imR,imG,imB = imdat[i,j]\n",
    "        sign= modsign[count]\n",
    "        dif = int(-sign*lamda)\n",
    "        imdat[i,j] = (imR+3*dif,imG+6*dif,imB+dif) #3,6,1\n",
    "        #mod_class = hw_classifier.classify_image_details(imtst)\n",
    "        #display(imtst)\n",
    "        #modarr[ count, ]= mod_class - air_class\n",
    "        count=count+1"
   ]
  },
  {
   "cell_type": "markdown",
   "metadata": {},
   "source": [
    "## 8. Make predictions on the modified image\n",
    "\n",
    "Now the MAGIC!\n",
    "\n",
    "First we visualize both the original and the modified image. We can see that they have some little differences but do not affect our human's recognition on the image as a bird. \n",
    "\n",
    "However, the classifier classifies the modified bird image as a cat!"
   ]
  },
  {
   "cell_type": "code",
   "execution_count": 76,
   "metadata": {},
   "outputs": [
    {
     "name": "stdout",
     "output_type": "stream",
     "text": [
      "Original Image:\n"
     ]
    },
    {
     "data": {
      "image/png": "[encoded data removed]",
      "text/plain": [
       "<PIL.Image.Image image mode=RGB size=128x128 at 0x7F7097F908>"
      ]
     },
     "metadata": {},
     "output_type": "display_data"
    },
    {
     "name": "stdout",
     "output_type": "stream",
     "text": [
      "Modified Image:\n"
     ]
    },
    {
     "data": {
      "image/png": "[encoded data removed]",
      "text/plain": [
       "<PIL.Image.Image image mode=RGB size=128x128 at 0x7F7097F908>"
      ]
     },
     "metadata": {},
     "output_type": "display_data"
    },
    {
     "name": "stdout",
     "output_type": "stream",
     "text": [
      "Perturbation Added:\n"
     ]
    },
    {
     "data": {
      "image/png": "[encoded data removed]",
      "text/plain": [
       "<PIL.Image.Image image mode=RGB size=128x128 at 0x7F7097F908>"
      ]
     },
     "metadata": {},
     "output_type": "display_data"
    }
   ],
   "source": [
    "size=128,128\n",
    "print('Original Image:')\n",
    "display(im.resize(size))\n",
    "print('Modified Image:')\n",
    "display(imtst.resize(size))\n",
    "\n",
    "from PIL import ImageChops\n",
    "print('Perturbation Added:')\n",
    "noise= ImageChops.difference(imtst, im)\n",
    "display(noise.resize(size))"
   ]
  },
  {
   "cell_type": "code",
   "execution_count": 77,
   "metadata": {},
   "outputs": [
    {
     "name": "stdout",
     "output_type": "stream",
     "text": [
      "Inference took 528.00 microseconds\n",
      "Classification rate: 1893.94 images per second\n",
      "Modified image classication result: 3\n",
      "Modified image class name output: Cat\n"
     ]
    }
   ],
   "source": [
    "#display(imtst)\n",
    "mod_out=hw_classifier.classify_image(imtst)\n",
    "print(\"Modified image classication result: {0}\".format(mod_out))\n",
    "print(\"Modified image class name output: {0}\".format(hw_classifier.class_name(mod_out)))\n",
    "#mod_class = hw_classifier.classify_image_details(imtst)\n",
    "#mod_class"
   ]
  },
  {
   "cell_type": "code",
   "execution_count": 78,
   "metadata": {},
   "outputs": [
    {
     "name": "stdout",
     "output_type": "stream",
     "text": [
      "Original image class number: 2\n",
      "Original image class name: Bird\n"
     ]
    }
   ],
   "source": [
    "#display(im)\n",
    "#class_out=hw_classifier.classify_image(im)\n",
    "print(\"Original image class number: {0}\".format(class_out))\n",
    "print(\"Original image class name: {0}\".format(hw_classifier.class_name(class_out)))\n",
    "#ori_class = hw_classifier.classify_image_details(im)\n",
    "#ori_class"
   ]
  },
  {
   "cell_type": "markdown",
   "metadata": {},
   "source": [
    "## 9. Time performance comparison\n",
    "Now combine the pixel iteration and modification into one whole function and we can calculate the time usage as a performance metric.In order to make a comparison between hardware and software executions, two functions using PL and pure PS are provided."
   ]
  },
  {
   "cell_type": "code",
   "execution_count": 79,
   "metadata": {},
   "outputs": [],
   "source": [
    "def imgAdvHW(im,thres,lamda,step):\n",
    "    row,col= im.size\n",
    "    belief_class = hw_classifier.classify_image_details(im)\n",
    "    \n",
    "    #step=2\n",
    "    count=0\n",
    "    count1=0\n",
    "\n",
    "    for i in range(0,row,step):\n",
    "        count1=count1+1\n",
    "        for j in range(0,col,step):\n",
    "            count= count+1\n",
    "    modarr=np.zeros((count,10))\n",
    "    clsarr=np.zeros((count,10))\n",
    "\n",
    "    modset= []\n",
    "\n",
    "    #count=0\n",
    "    for i in range(0,row,step):\n",
    "        for j in range(0,col,step):\n",
    "            imtst= im.copy()\n",
    "            imdat= imtst.load()\n",
    "            imR,imG,imB = imdat[i,j]\n",
    "            imdat[i,j] = (imR+30,imG+60,imB+10) #3,6,1\n",
    "            #mod_class = hw_classifier.classify_image_details(imtst)\n",
    "            #display(imtst)\n",
    "            modset.append(imtst)\n",
    "            #modarr[ count, ]= mod_class - air_class\n",
    "            #count=count+1\n",
    "    #print(len(modset))\n",
    "    clsarr = hw_classifier.classify_images_details(modset)\n",
    "    clsarr = clsarr.reshape([len(modset),10])\n",
    "    modarr = clsarr.copy()\n",
    "    modarr = modarr - np.tile(belief_class,(len(modset),1))\n",
    "    #print(modarr)\n",
    "    #print(modarr.shape)\n",
    "    \n",
    "    \n",
    "    '''\n",
    "    ## Max Confidence Decrease\n",
    "    modout= modarr[:,class_out]\n",
    "    #print(modout)\n",
    "    modsign= modout.copy()\n",
    "    #thres = 2\n",
    "    modsign[np.abs(modsign) <= thres] = 0 \n",
    "    #modsign[modsign>thres]= 1\n",
    "    #modsign[modsign<-thres]=-1\n",
    "    modsign= np.sign(modsign)\n",
    "    '''\n",
    "    \n",
    "    ## Max- 2ndMax Condifence Decrease\n",
    "    # max confidence value minus second max confidence value\n",
    "    beliefdif= np.max(belief_class)- np.min( belief_class[np.argpartition(belief_class, -2)[-2:]] )\n",
    "    # get \n",
    "    class_out=belief_class.argmax(axis=0)\n",
    "    #class_out=int(class_max)\n",
    "\n",
    "    modout= clsarr[:,class_out]\n",
    "    #print(type(class_out))\n",
    "    #print(modout.shape)\n",
    "    ind=range(clsarr.shape[1])\n",
    "    ind=np.setdiff1d(ind,class_out)\n",
    "    #print(modout)\n",
    "    #print(np.max( clsarr[:,ind],axis=1 ))\n",
    "    modout= modout- np.max( clsarr[:,ind],axis=1 )-beliefdif\n",
    "    \n",
    "    modsign= modout.copy()\n",
    "    #thres = 2\n",
    "    modsign[np.abs(modsign) <= thres] = 0 \n",
    "    modsign= np.sign(modsign)\n",
    "    #print(modsign)\n",
    "    \n",
    "    count=int(0)\n",
    "    imtst= im.copy()\n",
    "    imdat= imtst.load()\n",
    "    #lamda=2\n",
    "    for i in range(0,row,step):\n",
    "        for j in range(0,col,step):      \n",
    "            imR,imG,imB = imdat[i,j]\n",
    "            sign= modsign[count]\n",
    "            dif = int(-sign*lamda)\n",
    "            imdat[i,j] = (imR+3*dif,imG+6*dif,imB+dif) #3,6,1\n",
    "            #mod_class = hw_classifier.classify_image_details(imtst)\n",
    "            #display(imtst)\n",
    "            #modarr[ count, ]= mod_class - air_class\n",
    "            count=count+1\n",
    "    \n",
    "    #display(im)\n",
    "    #display(imtst)\n",
    "    \n",
    "    return imtst"
   ]
  },
  {
   "cell_type": "code",
   "execution_count": 80,
   "metadata": {},
   "outputs": [
    {
     "name": "stdout",
     "output_type": "stream",
     "text": [
      "Inference took 527.00 microseconds\n",
      "Classification rate: 1897.53 images per second\n",
      "Inference took 19854.00 microseconds, 112.81 usec per image\n",
      "Classification rate: 8864.71 images per second\n",
      "Hardware adversarial attack time length:  0.2858085632324219 s\n"
     ]
    }
   ],
   "source": [
    "start=time()\n",
    "imtst= imgAdvHW(im,thres,lamda,step)\n",
    "end = time()\n",
    "hw_t = end-start\n",
    "print('Hardware adversarial attack time length: ',hw_t,'s')"
   ]
  },
  {
   "cell_type": "code",
   "execution_count": 81,
   "metadata": {},
   "outputs": [],
   "source": [
    "def imgAdvSW(im,thres,lamda,step):\n",
    "    row,col= im.size\n",
    "    belief_class = sw_classifier.classify_image_details(im)\n",
    "    \n",
    "    #step=2\n",
    "    count=0\n",
    "    count1=0\n",
    "\n",
    "    for i in range(0,row,step):\n",
    "        count1=count1+1\n",
    "        for j in range(0,col,step):\n",
    "            count= count+1\n",
    "    modarr=np.zeros((count,10))\n",
    "    clsarr=np.zeros((count,10))\n",
    "\n",
    "    modset= []\n",
    "\n",
    "    #count=0\n",
    "    for i in range(0,row,step):\n",
    "        for j in range(0,col,step):\n",
    "            imtst= im.copy()\n",
    "            imdat= imtst.load()\n",
    "            imR,imG,imB = imdat[i,j]\n",
    "            imdat[i,j] = (imR+30,imG+60,imB+10) #3,6,1\n",
    "            #mod_class = hw_classifier.classify_image_details(imtst)\n",
    "            #display(imtst)\n",
    "            modset.append(imtst)\n",
    "            #modarr[ count, ]= mod_class - air_class\n",
    "            #count=count+1\n",
    "    #print(len(modset))\n",
    "    clsarr = sw_classifier.classify_images_details(modset)\n",
    "    clsarr = clsarr.reshape([len(modset),10])\n",
    "    modarr = clsarr.copy()\n",
    "    modarr = modarr - np.tile(belief_class,(len(modset),1))\n",
    "    #print(modarr)\n",
    "    #print(modarr.shape)\n",
    "    \n",
    "    \n",
    "    '''\n",
    "    ## Max Confidence Decrease\n",
    "    modout= modarr[:,class_out]\n",
    "    #print(modout)\n",
    "    modsign= modout.copy()\n",
    "    #thres = 2\n",
    "    modsign[np.abs(modsign) <= thres] = 0 \n",
    "    #modsign[modsign>thres]= 1\n",
    "    #modsign[modsign<-thres]=-1\n",
    "    modsign= np.sign(modsign)\n",
    "    '''\n",
    "    \n",
    "    ## Max- 2ndMax Condifence Decrease\n",
    "    # max confidence value minus second max confidence value\n",
    "    beliefdif= np.max(belief_class)- np.min( belief_class[np.argpartition(belief_class, -2)[-2:]] )\n",
    "    # get \n",
    "    class_out=belief_class.argmax(axis=0)\n",
    "    #class_out=int(class_max)\n",
    "\n",
    "    modout= clsarr[:,class_out]\n",
    "    #print(type(class_out))\n",
    "    #print(modout.shape)\n",
    "    ind=range(clsarr.shape[1])\n",
    "    ind=np.setdiff1d(ind,class_out)\n",
    "    #print(modout)\n",
    "    #print(np.max( clsarr[:,ind],axis=1 ))\n",
    "    modout= modout- np.max( clsarr[:,ind],axis=1 )-beliefdif\n",
    "    \n",
    "    modsign= modout.copy()\n",
    "    #thres = 2\n",
    "    modsign[np.abs(modsign) <= thres] = 0 \n",
    "    modsign= np.sign(modsign)\n",
    "    #print(modsign)\n",
    "    \n",
    "    count=int(0)\n",
    "    imtst= im.copy()\n",
    "    imdat= imtst.load()\n",
    "    #lamda=2\n",
    "    for i in range(0,row,step):\n",
    "        for j in range(0,col,step):      \n",
    "            imR,imG,imB = imdat[i,j]\n",
    "            sign= modsign[count]\n",
    "            dif = int(-sign*lamda)\n",
    "            imdat[i,j] = (imR+3*dif,imG+6*dif,imB+dif) #3,6,1\n",
    "            #mod_class = hw_classifier.classify_image_details(imtst)\n",
    "            #display(imtst)\n",
    "            #modarr[ count, ]= mod_class - air_class\n",
    "            count=count+1\n",
    "    \n",
    "    #display(im)\n",
    "    #display(imtst)\n",
    "    \n",
    "    return imtst"
   ]
  },
  {
   "cell_type": "code",
   "execution_count": 82,
   "metadata": {},
   "outputs": [
    {
     "name": "stdout",
     "output_type": "stream",
     "text": [
      "Inference took 416661.00 microseconds\n",
      "Classification rate: 2.40 images per second\n",
      "Inference took 73228287.00 microseconds, 416069.81 usec per image\n",
      "Classification rate: 2.40 images per second\n",
      "Software adversarial attack time length:  73.91520619392395 s\n"
     ]
    }
   ],
   "source": [
    "start=time()\n",
    "imtst= imgAdvSW(im,thres,lamda,step)\n",
    "end = time()\n",
    "sw_t = end-start\n",
    "print('Software adversarial attack time length: ',sw_t,'s')"
   ]
  },
  {
   "cell_type": "code",
   "execution_count": null,
   "metadata": {},
   "outputs": [],
   "source": []
  },
  {
   "cell_type": "code",
   "execution_count": 83,
   "metadata": {},
   "outputs": [
    {
     "data": {
      "image/png": "[encoded data removed]",
      "text/plain": [
       "<matplotlib.figure.Figure at 0x7f709a7048>"
      ]
     },
     "metadata": {},
     "output_type": "display_data"
    }
   ],
   "source": [
    "%matplotlib inline\n",
    "import numpy as np\n",
    "import matplotlib.pyplot as plt\n",
    "\n",
    "hw_time = [hw_t]\n",
    "sw_time = [sw_t]\n",
    "\n",
    "x_axis = ('Attack Time')\n",
    "\n",
    "y_pos = 0.5\n",
    "plt.bar(y_pos-0.25, hw_time, 0.15)\n",
    "plt.bar(y_pos+0.25, sw_time, 0.15)\n",
    "#plt.xticks(y_pos, x_axis)\n",
    "plt.legend([\"hw attack time\",\"sw attack time\"])\n",
    "plt.semilogy()\n",
    "plt.show()"
   ]
  },
  {
   "cell_type": "markdown",
   "metadata": {},
   "source": [
    "## Conclusion\n",
    "\n",
    "We can see that hardware attack on one image takes only 0.278s while software attack takes 73.93s. The hardware execution shows a 266x performance acceleration over software excution. Another thing worth noticing is that as hardware attack only takes 0.278s it can lead to more than 30 attacks per second which can be regarded as almost real-time in many application cases."
   ]
  },
  {
   "cell_type": "code",
   "execution_count": null,
   "metadata": {},
   "outputs": [],
   "source": []
  }
 ],
 "metadata": {
  "kernelspec": {
   "display_name": "Python 3",
   "language": "python",
   "name": "python3"
  },
  "language_info": {
   "codemirror_mode": {
    "name": "ipython",
    "version": 3
   },
   "file_extension": ".py",
   "mimetype": "text/x-python",
   "name": "python",
   "nbconvert_exporter": "python",
   "pygments_lexer": "ipython3",
   "version": "3.6.5"
  }
 },
 "nbformat": 4,
 "nbformat_minor": 2
}
